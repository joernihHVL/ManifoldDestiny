{
  "cells": [
    {
      "cell_type": "raw",
      "metadata": {},
      "source": [
        "---\n",
        "title: \"\"\n",
        "webr:\n",
        "  show-startup-message: true      # Display status of webR initialization\n",
        "  show-header-message: false      # Check to see if COOP&COEP headers are set for speed.\n",
        "  packages: ['dplyr','data.table','readr','ggplotly']             # Pre-install dependencies\n",
        "  cell-options:\n",
        "    autorun: true\n",
        "filters:\n",
        "  - panelize\n",
        "  - pyodide\n",
        "  - webr\n",
        "---"
      ],
      "id": "e9175c7f"
    },
    {
      "cell_type": "markdown",
      "metadata": {},
      "source": [
        "```{webr-r}\n",
        "```\n",
        "\n",
        "\n",
        "\n",
        ":::{.to-pyodide}"
      ],
      "id": "6e246f9a"
    },
    {
      "cell_type": "code",
      "metadata": {},
      "source": [
        "x = [1, 2]\n",
        "print(x)"
      ],
      "id": "d875afe4",
      "execution_count": null,
      "outputs": []
    },
    {
      "cell_type": "markdown",
      "metadata": {},
      "source": [
        ":::"
      ],
      "id": "74de7ef5"
    }
  ],
  "metadata": {
    "kernelspec": {
      "display_name": "Python 3",
      "language": "python",
      "name": "python3"
    }
  },
  "nbformat": 4,
  "nbformat_minor": 5
}